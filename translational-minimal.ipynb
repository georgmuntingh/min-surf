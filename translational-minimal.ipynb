{
 "cells": [
  {
   "cell_type": "markdown",
   "metadata": {},
   "source": [
    "# Jupyter notebook: Affine equivalences of rational surfaces of translation, and applications to rational minimal surfaces\n",
    "\n",
    "This is a Jupyter notebook accompanying the paper [1].\n",
    "\n",
    "[1] J.G. Alcazar, G. Muntingh. _Affine equivalences of rational surfaces of translation, and applications to rational minimal surfaces_, Available at arXiv."
   ]
  },
  {
   "cell_type": "code",
   "execution_count": 2,
   "metadata": {},
   "outputs": [],
   "source": [
    "# !pip install sympy numpy matplotlib tabulate\n",
    "\n",
    "import numpy as np\n",
    "import sympy as sp\n",
    "from utils.minsurf import Weierstrass_Enneper\n",
    "from sympy.assumptions import assuming, Q\n",
    "# sp.init_printing(use_unicode=True)\n",
    "sp.init_printing()\n",
    "\n",
    "from IPython.display import display, Math, Latex, HTML\n",
    "from tabulate import tabulate"
   ]
  },
  {
   "cell_type": "code",
   "execution_count": 4,
   "metadata": {},
   "outputs": [],
   "source": [
    "def T1(n, x=None):\n",
    "    \"\"\"\n",
    "    :param n: Degree of the Chebyshev polynomial\n",
    "    :param x: Variable/number\n",
    "    :return: Chebyshev polynomial of the first kind of degree n in the variable/number x.\n",
    "    \"\"\"\n",
    "    if x is None:\n",
    "        x = sp.Symbol('x')\n",
    "\n",
    "    if n == 0:\n",
    "        return 1\n",
    "    elif n == 1:\n",
    "        return x\n",
    "    elif n >= 2:\n",
    "        return sp.expand(2*x*T1(n-1, x=x) - T1(n-2, x=x))\n",
    "\n",
    "\n",
    "def S_enneper(k):\n",
    "    r, s, t = sp.symbols(\"r s t\")\n",
    "\n",
    "    x = sp.expand(sp.expand(t - r**(2*k+1) * T1(2*k + 1, x=t/r)/(2*k + 1)).subs(r, sp.sqrt(s**2 + t**2)))\n",
    "    y = sp.expand(sp.expand(-s - (-1)**k * r**(2*k+1) * T1(2*k + 1, x=s/r)/(2*k + 1)).subs(r, sp.sqrt(s**2 + t**2)))\n",
    "    z = sp.expand(sp.expand(2*r**(k+1) * T1(k+1, x=t/r)/(k+1)).subs(r, sp.sqrt(s**2 + t**2)))\n",
    "\n",
    "    return x, y, z\n",
    "\n",
    "\n",
    "def binomial(n, k):\n",
    "    assert(0 <= k <= n)\n",
    "\n",
    "    if n == 0 or n == 1 or k == 0 or k == n:\n",
    "        return 1\n",
    "    else:\n",
    "        return binomial(n-1, k-1) + binomial(n-1, k)\n",
    "\n",
    "r, s, t = sp.symbols(\"r s t\", real=True)\n",
    "z = sp.Symbol('z', nonzero=True)\n",
    "k = sp.Symbol('k', positive=True)\n",
    "m = sp.Symbol('m', positive=True)"
   ]
  },
  {
   "cell_type": "markdown",
   "metadata": {},
   "source": [
    "## Proposition 7 in [1]"
   ]
  },
  {
   "cell_type": "code",
   "execution_count": 5,
   "metadata": {},
   "outputs": [
    {
     "name": "stdout",
     "output_type": "stream",
     "text": [
      "The Weierstrass form with f=2 and g=z**k yields the minimal curve\n"
     ]
    },
    {
     "data": {
      "image/png": "[encoded data removed]",
      "text/latex": [
       "$\\displaystyle \\left( z - \\frac{z^{2 k + 1}}{2 k + 1}, \\  i \\left(z + \\frac{z^{2 k + 1}}{2 k + 1}\\right), \\  \\frac{2 z^{k + 1}}{k + 1}\\right)$"
      ],
      "text/plain": [
       "⎛     2⋅k + 1    ⎛     2⋅k + 1⎞     k + 1⎞\n",
       "⎜    z           ⎜    z       ⎟  2⋅z     ⎟\n",
       "⎜z - ────────, ⅈ⋅⎜z + ────────⎟, ────────⎟\n",
       "⎝    2⋅k + 1     ⎝    2⋅k + 1 ⎠   k + 1  ⎠"
      ]
     },
     "metadata": {},
     "output_type": "display_data"
    }
   ],
   "source": [
    "f = 2\n",
    "g = z**k\n",
    "psi = Weierstrass_Enneper(f, g, z, imag_unit=sp.I)\n",
    "print(f\"The Weierstrass form with f={f} and g={g} yields the minimal curve\")\n",
    "display(psi)"
   ]
  },
  {
   "cell_type": "markdown",
   "metadata": {},
   "source": [
    "## Proposition 8 in [1] (for the case k=1)"
   ]
  },
  {
   "cell_type": "code",
   "execution_count": 12,
   "metadata": {},
   "outputs": [
    {
     "name": "stdout",
     "output_type": "stream",
     "text": [
      "\n",
      "The matrix Psi=\n"
     ]
    },
    {
     "data": {
      "text/latex": [
       "$\\displaystyle \\left[\\begin{matrix}1 & 0 & -2\\\\i & 0 & 2 i\\\\0 & 2 & 0\\end{matrix}\\right]$"
      ],
      "text/plain": [
       "⎡1  0  -2 ⎤\n",
       "⎢         ⎥\n",
       "⎢ⅈ  0  2⋅ⅈ⎥\n",
       "⎢         ⎥\n",
       "⎣0  2   0 ⎦"
      ]
     },
     "metadata": {},
     "output_type": "display_data"
    },
    {
     "name": "stdout",
     "output_type": "stream",
     "text": [
      "\n",
      "The matrix Psi^-1=\n"
     ]
    },
    {
     "data": {
      "text/latex": [
       "$\\displaystyle \\left[\\begin{matrix}\\frac{1}{2} & - \\frac{i}{2} & 0\\\\0 & 0 & \\frac{1}{2}\\\\- \\frac{1}{4} & - \\frac{i}{4} & 0\\end{matrix}\\right]$"
      ],
      "text/plain": [
       "⎡      -ⅈ      ⎤\n",
       "⎢1/2   ───   0 ⎥\n",
       "⎢       2      ⎥\n",
       "⎢              ⎥\n",
       "⎢ 0     0   1/2⎥\n",
       "⎢              ⎥\n",
       "⎢      -ⅈ      ⎥\n",
       "⎢-1/4  ───   0 ⎥\n",
       "⎣       4      ⎦"
      ]
     },
     "metadata": {},
     "output_type": "display_data"
    },
    {
     "name": "stdout",
     "output_type": "stream",
     "text": [
      "\n",
      "The matrix A=\n"
     ]
    },
    {
     "data": {
      "text/latex": [
       "$\\displaystyle \\left[\\begin{matrix}i^{m} & 0 & 0\\\\0 & \\left(-1\\right)^{m} & 0\\\\0 & 0 & \\left(- i\\right)^{m}\\end{matrix}\\right]$"
      ],
      "text/plain": [
       "⎡ m              ⎤\n",
       "⎢ⅈ     0      0  ⎥\n",
       "⎢                ⎥\n",
       "⎢        m       ⎥\n",
       "⎢0   (-1)     0  ⎥\n",
       "⎢                ⎥\n",
       "⎢               m⎥\n",
       "⎣0     0    (-ⅈ) ⎦"
      ]
     },
     "metadata": {},
     "output_type": "display_data"
    },
    {
     "name": "stdout",
     "output_type": "stream",
     "text": [
      "\n",
      "The matrix M=\n"
     ]
    },
    {
     "data": {
      "text/latex": [
       "$\\displaystyle \\left[\\begin{matrix}\\frac{i^{m}}{2} + \\frac{\\left(- i\\right)^{m}}{2} & - \\frac{i i^{m}}{2} + \\frac{i \\left(- i\\right)^{m}}{2} & 0\\\\\\frac{i i^{m}}{2} - \\frac{i \\left(- i\\right)^{m}}{2} & \\frac{i^{m}}{2} + \\frac{\\left(- i\\right)^{m}}{2} & 0\\\\0 & 0 & \\left(-1\\right)^{m}\\end{matrix}\\right]$"
      ],
      "text/plain": [
       "⎡   m       m         m         m       ⎤\n",
       "⎢  ⅈ    (-ⅈ)       ⅈ⋅ⅈ    ⅈ⋅(-ⅈ)        ⎥\n",
       "⎢  ── + ─────    - ──── + ───────    0  ⎥\n",
       "⎢  2      2         2        2          ⎥\n",
       "⎢                                       ⎥\n",
       "⎢   m         m      m       m          ⎥\n",
       "⎢ⅈ⋅ⅈ    ⅈ⋅(-ⅈ)      ⅈ    (-ⅈ)           ⎥\n",
       "⎢──── - ───────     ── + ─────       0  ⎥\n",
       "⎢ 2        2        2      2            ⎥\n",
       "⎢                                       ⎥\n",
       "⎢                                      m⎥\n",
       "⎣      0                0          (-1) ⎦"
      ]
     },
     "metadata": {},
     "output_type": "display_data"
    },
    {
     "name": "stdout",
     "output_type": "stream",
     "text": [
      "\n",
      "The matrix R1=\n"
     ]
    },
    {
     "data": {
      "text/latex": [
       "$\\displaystyle \\left[\\begin{matrix}0 & 1 & 0\\\\-1 & 0 & 0\\\\0 & 0 & -1\\end{matrix}\\right]$"
      ],
      "text/plain": [
       "⎡0   1  0 ⎤\n",
       "⎢         ⎥\n",
       "⎢-1  0  0 ⎥\n",
       "⎢         ⎥\n",
       "⎣0   0  -1⎦"
      ]
     },
     "metadata": {},
     "output_type": "display_data"
    }
   ],
   "source": [
    "Psi = [[sp.expand(expr.subs(k, 1).diff(z, k0).subs(z, 0)) for expr in psi] for k0 in [1, 2, 3]]\n",
    "Psi = sp.Matrix(Psi).transpose()\n",
    "A = sp.Matrix([[sp.I**m, 0, 0], [0, (-1)**m, 0], [0, 0, (-sp.I)**m]])\n",
    "M = Psi*A*Psi.inv()\n",
    "print(\"\\nThe matrix Psi=\")\n",
    "display(Psi)\n",
    "print(\"\\nThe matrix Psi^-1=\")\n",
    "display(Psi.inv())\n",
    "print(\"\\nThe matrix A=\")\n",
    "display(A)\n",
    "print(\"\\nThe matrix M=\")\n",
    "display(M)\n",
    "R1 = M.subs(m, 1)\n",
    "print(\"\\nThe matrix R1=\")\n",
    "display(R1)\n"
   ]
  },
  {
   "cell_type": "markdown",
   "metadata": {},
   "source": [
    "## Example 1 in [1]"
   ]
  },
  {
   "cell_type": "code",
   "execution_count": 7,
   "metadata": {},
   "outputs": [
    {
     "name": "stdout",
     "output_type": "stream",
     "text": [
      "\n",
      "The Enneper surface of order k=1 has parametrization:\n"
     ]
    },
    {
     "data": {
      "image/png": "[encoded data removed]",
      "text/latex": [
       "$\\displaystyle \\left( s^{2} t - \\frac{t^{3}}{3} + t, \\  \\frac{s^{3}}{3} - s t^{2} - s, \\  - s^{2} + t^{2}\\right)$"
      ],
      "text/plain": [
       "⎛        3       3                      ⎞\n",
       "⎜ 2     t       s       2         2    2⎟\n",
       "⎜s ⋅t - ── + t, ── - s⋅t  - s, - s  + t ⎟\n",
       "⎝       3       3                       ⎠"
      ]
     },
     "metadata": {},
     "output_type": "display_data"
    },
    {
     "name": "stdout",
     "output_type": "stream",
     "text": [
      "\n",
      "The Enneper surface of order k=2 has parametrization:\n"
     ]
    },
    {
     "data": {
      "image/png": "[encoded data removed]",
      "text/latex": [
       "$\\displaystyle \\left( - s^{4} t + 2 s^{2} t^{3} - \\frac{t^{5}}{5} + t, \\  - \\frac{s^{5}}{5} + 2 s^{3} t^{2} - s t^{4} - s, \\  - 2 s^{2} t + \\frac{2 t^{3}}{3}\\right)$"
      ],
      "text/plain": [
       "⎛                    5         5                                     3⎞\n",
       "⎜   4        2  3   t         s       3  2      4           2     2⋅t ⎟\n",
       "⎜- s ⋅t + 2⋅s ⋅t  - ── + t, - ── + 2⋅s ⋅t  - s⋅t  - s, - 2⋅s ⋅t + ────⎟\n",
       "⎝                   5         5                                    3  ⎠"
      ]
     },
     "metadata": {},
     "output_type": "display_data"
    },
    {
     "name": "stdout",
     "output_type": "stream",
     "text": [
      "\n",
      "The Enneper surface of order k=3 has parametrization:\n"
     ]
    },
    {
     "data": {
      "image/png": "[encoded data removed]",
      "text/latex": [
       "$\\displaystyle \\left( s^{6} t - 5 s^{4} t^{3} + 3 s^{2} t^{5} - \\frac{t^{7}}{7} + t, \\  \\frac{s^{7}}{7} - 3 s^{5} t^{2} + 5 s^{3} t^{4} - s t^{6} - s, \\  \\frac{s^{4}}{2} - 3 s^{2} t^{2} + \\frac{t^{4}}{2}\\right)$"
      ],
      "text/plain": [
       "⎛                            7       7                                  4     \n",
       "⎜ 6        4  3      2  5   t       s       5  2      3  4      6      s      \n",
       "⎜s ⋅t - 5⋅s ⋅t  + 3⋅s ⋅t  - ── + t, ── - 3⋅s ⋅t  + 5⋅s ⋅t  - s⋅t  - s, ── - 3⋅\n",
       "⎝                           7       7                                  2      \n",
       "\n",
       "         4⎞\n",
       " 2  2   t ⎟\n",
       "s ⋅t  + ──⎟\n",
       "        2 ⎠"
      ]
     },
     "metadata": {},
     "output_type": "display_data"
    },
    {
     "name": "stdout",
     "output_type": "stream",
     "text": [
      "\n",
      "The Enneper surface of order k=4 has parametrization:\n"
     ]
    },
    {
     "data": {
      "image/png": "[encoded data removed]",
      "text/latex": [
       "$\\displaystyle \\left( - s^{8} t + \\frac{28 s^{6} t^{3}}{3} - 14 s^{4} t^{5} + 4 s^{2} t^{7} - \\frac{t^{9}}{9} + t, \\  - \\frac{s^{9}}{9} + 4 s^{7} t^{2} - 14 s^{5} t^{4} + \\frac{28 s^{3} t^{6}}{3} - s t^{8} - s, \\  2 s^{4} t - 4 s^{2} t^{3} + \\frac{2 t^{5}}{5}\\right)$"
      ],
      "text/plain": [
       "⎛             6  3                         9         9                        \n",
       "⎜   8     28⋅s ⋅t        4  5      2  7   t         s       7  2       5  4   \n",
       "⎜- s ⋅t + ──────── - 14⋅s ⋅t  + 4⋅s ⋅t  - ── + t, - ── + 4⋅s ⋅t  - 14⋅s ⋅t  + \n",
       "⎝            3                            9         9                         \n",
       "\n",
       "    3  6                                   5⎞\n",
       "28⋅s ⋅t       8         4        2  3   2⋅t ⎟\n",
       "──────── - s⋅t  - s, 2⋅s ⋅t - 4⋅s ⋅t  + ────⎟\n",
       "   3                                     5  ⎠"
      ]
     },
     "metadata": {},
     "output_type": "display_data"
    }
   ],
   "source": [
    "for k in range(1, 4+1):\n",
    "    print(f\"\\nThe Enneper surface of order k={k} has parametrization:\")\n",
    "    display(S_enneper(k))"
   ]
  },
  {
   "cell_type": "markdown",
   "metadata": {},
   "source": [
    "## Remark 2 in [1]"
   ]
  },
  {
   "cell_type": "code",
   "execution_count": 19,
   "metadata": {},
   "outputs": [
    {
     "name": "stdout",
     "output_type": "stream",
     "text": [
      "For n=0, the lhs and rhs in Remark 2 match: True\n",
      "For n=1, the lhs and rhs in Remark 2 match: True\n",
      "For n=2, the lhs and rhs in Remark 2 match: True\n",
      "For n=3, the lhs and rhs in Remark 2 match: True\n",
      "For n=4, the lhs and rhs in Remark 2 match: True\n"
     ]
    }
   ],
   "source": [
    "for n in range(0, 5):\n",
    "    k, eps = divmod(n, 2)\n",
    "    lhs1 = sp.expand(sp.expand(r**n * T(n, t/r)).subs(r, sp.sqrt(s**2 + t**2)))\n",
    "    lhs2 = sp.expand(sp.expand(r**n * T(n, s/r)).subs(r, sp.sqrt(s**2 + t**2)))\n",
    "    rhs1 = sum([(-1)**(k+m) * binomial(n, 2*m + eps) * s**(n - 2*m - eps) * t**(2*m + eps) for m in range(k+1)])\n",
    "    rhs2 = sum([(-1)**(k+m) * binomial(n, 2*m + eps) * t**(n - 2*m - eps) * s**(2*m + eps) for m in range(k+1)])\n",
    "    print(f\"For n={n}, the lhs and rhs in Remark 2 match: {lhs1 == rhs1 and lhs2 == rhs2}\")"
   ]
  },
  {
   "cell_type": "markdown",
   "metadata": {},
   "source": [
    "## Table 1 in [1]\n",
    "Consider the unitary matrices\n",
    "$$\\mathbf{B} = \\begin{bmatrix}0&-i&0\\\\i&0&0\\\\0&0&i \\end{bmatrix},\\quad \n",
    "\\mathbf{C} = \\begin{bmatrix}i&0&0\\\\0&i&0\\\\0&0&i \\end{bmatrix},\\quad\n",
    "\\mathbf{S} = \\begin{bmatrix}1&0&0\\\\0&-1&0\\\\0&0&1\\end{bmatrix},\\quad\n",
    "\\mathbf{T} = \\begin{bmatrix}1&0&0\\\\0&1&0\\\\0&0&-1\\end{bmatrix},\\quad\n",
    "\\mathbf{R}_1 = \\begin{bmatrix}0&1&0\\\\-1&0&0\\\\0&0&-1 \\end{bmatrix}.$$\n",
    "The matrices in Table 1 are $\\mathbf{S}^n \\mathbf{B}^s \\mathbf{C}^{q+r}$, for $q,r,s \\in \\mathbb{Z}/4\\mathbb{Z}$ and $n\\in \\mathbb{Z}/2\\mathbb{Z}$."
   ]
  },
  {
   "cell_type": "code",
   "execution_count": 7,
   "metadata": {},
   "outputs": [],
   "source": [
    "def matrix_to_latex(M):\n",
    "    s = \"$\\\\begin{bmatrix}\" + \\\n",
    "        \"\".join([\"\".join([str(M[i])] + (i % 3 != 2)*[\"&\"] + (i % 3 == 2)*[\"\\\\\\\\\"])  for i in range(len(C))]) + \\\n",
    "        \"\\end{bmatrix}$\"\n",
    "    return s\n",
    "\n",
    "S = sp.Matrix([[1, 0, 0], [0, -1, 0], [0, 0, 1]])\n",
    "B = sp.Matrix([[0, -sp.I, 0], [sp.I, 0, 0], [0, 0, sp.I]])\n",
    "C = sp.Matrix([[sp.I, 0, 0], [0, sp.I, 0], [0, 0, sp.I]])\n",
    "T = sp.Matrix([[1, 0, 0], [0, 1, 0], [0, 0, -1]])\n",
    "I = S**0"
   ]
  },
  {
   "cell_type": "code",
   "execution_count": 8,
   "metadata": {},
   "outputs": [
    {
     "data": {
      "text/html": [
       "<table>\n",
       "<thead>\n",
       "<tr><th>$M^+_{q+r,s}$  </th><th>$q+r\\equiv 0$                                        </th><th>$q+r\\equiv 1$                                        </th><th>$q+r \\equiv 2$                                        </th><th>$q+r \\equiv 3$                                        </th></tr>\n",
       "</thead>\n",
       "<tbody>\n",
       "<tr><td>$s\\equiv0$     </td><td>$\\begin{bmatrix}1&amp;0&amp;0\\\\0&amp;1&amp;0\\\\0&amp;0&amp;1\\\\\\end{bmatrix}$  </td><td>$\\begin{bmatrix}I&amp;0&amp;0\\\\0&amp;I&amp;0\\\\0&amp;0&amp;I\\\\\\end{bmatrix}$  </td><td>$\\begin{bmatrix}-1&amp;0&amp;0\\\\0&amp;-1&amp;0\\\\0&amp;0&amp;-1\\\\\\end{bmatrix}$</td><td>$\\begin{bmatrix}-I&amp;0&amp;0\\\\0&amp;-I&amp;0\\\\0&amp;0&amp;-I\\\\\\end{bmatrix}$</td></tr>\n",
       "<tr><td>$s\\equiv1$     </td><td>$\\begin{bmatrix}0&amp;-I&amp;0\\\\I&amp;0&amp;0\\\\0&amp;0&amp;I\\\\\\end{bmatrix}$ </td><td>$\\begin{bmatrix}0&amp;1&amp;0\\\\-1&amp;0&amp;0\\\\0&amp;0&amp;-1\\\\\\end{bmatrix}$</td><td>$\\begin{bmatrix}0&amp;I&amp;0\\\\-I&amp;0&amp;0\\\\0&amp;0&amp;-I\\\\\\end{bmatrix}$ </td><td>$\\begin{bmatrix}0&amp;-1&amp;0\\\\1&amp;0&amp;0\\\\0&amp;0&amp;1\\\\\\end{bmatrix}$  </td></tr>\n",
       "<tr><td>$s\\equiv2$     </td><td>$\\begin{bmatrix}1&amp;0&amp;0\\\\0&amp;1&amp;0\\\\0&amp;0&amp;-1\\\\\\end{bmatrix}$ </td><td>$\\begin{bmatrix}I&amp;0&amp;0\\\\0&amp;I&amp;0\\\\0&amp;0&amp;-I\\\\\\end{bmatrix}$ </td><td>$\\begin{bmatrix}-1&amp;0&amp;0\\\\0&amp;-1&amp;0\\\\0&amp;0&amp;1\\\\\\end{bmatrix}$ </td><td>$\\begin{bmatrix}-I&amp;0&amp;0\\\\0&amp;-I&amp;0\\\\0&amp;0&amp;I\\\\\\end{bmatrix}$ </td></tr>\n",
       "<tr><td>$s\\equiv3$     </td><td>$\\begin{bmatrix}0&amp;-I&amp;0\\\\I&amp;0&amp;0\\\\0&amp;0&amp;-I\\\\\\end{bmatrix}$</td><td>$\\begin{bmatrix}0&amp;1&amp;0\\\\-1&amp;0&amp;0\\\\0&amp;0&amp;1\\\\\\end{bmatrix}$ </td><td>$\\begin{bmatrix}0&amp;I&amp;0\\\\-I&amp;0&amp;0\\\\0&amp;0&amp;I\\\\\\end{bmatrix}$  </td><td>$\\begin{bmatrix}0&amp;-1&amp;0\\\\1&amp;0&amp;0\\\\0&amp;0&amp;-1\\\\\\end{bmatrix}$ </td></tr>\n",
       "</tbody>\n",
       "</table>"
      ],
      "text/plain": [
       "<IPython.core.display.HTML object>"
      ]
     },
     "execution_count": 8,
     "metadata": {},
     "output_type": "execute_result"
    }
   ],
   "source": [
    "headers = ['$M^+_{q+r,s}$', '$q+r\\equiv 0$', '$q+r\\equiv 1$', '$q+r \\equiv 2$', '$q+r \\equiv 3$']\n",
    "table = [ [f\"$s\\equiv{s}$\"] + [matrix_to_latex(B**s * C**qr) for qr in range(4)] for s in range(4)]\n",
    "HTML(tabulate(table, headers=headers, floatfmt='.3e', tablefmt='html'))"
   ]
  },
  {
   "cell_type": "code",
   "execution_count": 9,
   "metadata": {},
   "outputs": [
    {
     "data": {
      "text/html": [
       "<table>\n",
       "<thead>\n",
       "<tr><th>$M^-_{q+r,s}$  </th><th>$q+r\\equiv 0$                                         </th><th>$q+r\\equiv 1$                                        </th><th>$q+r \\equiv 2$                                       </th><th>$q+r \\equiv 3$                                        </th></tr>\n",
       "</thead>\n",
       "<tbody>\n",
       "<tr><td>$s\\equiv0$     </td><td>$\\begin{bmatrix}1&amp;0&amp;0\\\\0&amp;-1&amp;0\\\\0&amp;0&amp;1\\\\\\end{bmatrix}$  </td><td>$\\begin{bmatrix}I&amp;0&amp;0\\\\0&amp;-I&amp;0\\\\0&amp;0&amp;I\\\\\\end{bmatrix}$ </td><td>$\\begin{bmatrix}-1&amp;0&amp;0\\\\0&amp;1&amp;0\\\\0&amp;0&amp;-1\\\\\\end{bmatrix}$</td><td>$\\begin{bmatrix}-I&amp;0&amp;0\\\\0&amp;I&amp;0\\\\0&amp;0&amp;-I\\\\\\end{bmatrix}$ </td></tr>\n",
       "<tr><td>$s\\equiv1$     </td><td>$\\begin{bmatrix}0&amp;-I&amp;0\\\\-I&amp;0&amp;0\\\\0&amp;0&amp;I\\\\\\end{bmatrix}$ </td><td>$\\begin{bmatrix}0&amp;1&amp;0\\\\1&amp;0&amp;0\\\\0&amp;0&amp;-1\\\\\\end{bmatrix}$ </td><td>$\\begin{bmatrix}0&amp;I&amp;0\\\\I&amp;0&amp;0\\\\0&amp;0&amp;-I\\\\\\end{bmatrix}$ </td><td>$\\begin{bmatrix}0&amp;-1&amp;0\\\\-1&amp;0&amp;0\\\\0&amp;0&amp;1\\\\\\end{bmatrix}$ </td></tr>\n",
       "<tr><td>$s\\equiv2$     </td><td>$\\begin{bmatrix}1&amp;0&amp;0\\\\0&amp;-1&amp;0\\\\0&amp;0&amp;-1\\\\\\end{bmatrix}$ </td><td>$\\begin{bmatrix}I&amp;0&amp;0\\\\0&amp;-I&amp;0\\\\0&amp;0&amp;-I\\\\\\end{bmatrix}$</td><td>$\\begin{bmatrix}-1&amp;0&amp;0\\\\0&amp;1&amp;0\\\\0&amp;0&amp;1\\\\\\end{bmatrix}$ </td><td>$\\begin{bmatrix}-I&amp;0&amp;0\\\\0&amp;I&amp;0\\\\0&amp;0&amp;I\\\\\\end{bmatrix}$  </td></tr>\n",
       "<tr><td>$s\\equiv3$     </td><td>$\\begin{bmatrix}0&amp;-I&amp;0\\\\-I&amp;0&amp;0\\\\0&amp;0&amp;-I\\\\\\end{bmatrix}$</td><td>$\\begin{bmatrix}0&amp;1&amp;0\\\\1&amp;0&amp;0\\\\0&amp;0&amp;1\\\\\\end{bmatrix}$  </td><td>$\\begin{bmatrix}0&amp;I&amp;0\\\\I&amp;0&amp;0\\\\0&amp;0&amp;I\\\\\\end{bmatrix}$  </td><td>$\\begin{bmatrix}0&amp;-1&amp;0\\\\-1&amp;0&amp;0\\\\0&amp;0&amp;-1\\\\\\end{bmatrix}$</td></tr>\n",
       "</tbody>\n",
       "</table>"
      ],
      "text/plain": [
       "<IPython.core.display.HTML object>"
      ]
     },
     "execution_count": 9,
     "metadata": {},
     "output_type": "execute_result"
    }
   ],
   "source": [
    "headers = ['$M^-_{q+r,s}$', '$q+r\\equiv 0$', '$q+r\\equiv 1$', '$q+r \\equiv 2$', '$q+r \\equiv 3$']\n",
    "table = [[f\"$s\\equiv{s}$\"] + [matrix_to_latex(S*B**s * C**qr) for qr in range(4)] for s in range(4)]\n",
    "HTML(tabulate(table, headers=headers, floatfmt='.3e', tablefmt='html'))"
   ]
  },
  {
   "cell_type": "markdown",
   "metadata": {},
   "source": [
    "The matrices $\\mathbf{B}$ and $\\mathbf{C}$ commute, and their product is the matrix $\\mathbf{R}_1$."
   ]
  },
  {
   "cell_type": "code",
   "execution_count": 13,
   "metadata": {},
   "outputs": [
    {
     "name": "stdout",
     "output_type": "stream",
     "text": [
      "True\n"
     ]
    }
   ],
   "source": [
    "print(R1 == B@C == C@B)"
   ]
  },
  {
   "cell_type": "markdown",
   "metadata": {},
   "source": [
    "The matrix $\\mathbf{B}$ is a square root of the matrix $T$."
   ]
  },
  {
   "cell_type": "code",
   "execution_count": 14,
   "metadata": {},
   "outputs": [
    {
     "name": "stdout",
     "output_type": "stream",
     "text": [
      "True\n"
     ]
    }
   ],
   "source": [
    "print(B@B == T)"
   ]
  },
  {
   "cell_type": "markdown",
   "metadata": {},
   "source": [
    "## Remark 4 in [1]\n",
    "Consider the (external) direct product group\n",
    "$$ D_4 \\times \\mathbf{Z}/2\\mathbf{Z} \\simeq \\langle \\rho,\\sigma,\\tau\\,:\\,\\rho^4=\\sigma^2=\\tau^2=e,\\ \\sigma\\rho\\sigma=\\rho^{-1},\\ \\tau\\rho=\\rho\\tau,\\ \\sigma\\tau=\\tau\\sigma \\rangle, $$\n",
    "where $e$ denotes the neutral element. The map\n",
    "$$ D_4 \\times \\mathbf{Z}/2\\mathbf{Z} \\longrightarrow O(3), \\qquad \\sigma^n \\rho^m \\tau^p\\longmapsto \\mathbf{S}^n\\mathbf{R}_1^m \\mathbf{T}^p $$\n",
    "is a group monomorphism establishing a group structure on the set of real matrices in the above table."
   ]
  },
  {
   "cell_type": "code",
   "execution_count": 15,
   "metadata": {},
   "outputs": [
    {
     "name": "stdout",
     "output_type": "stream",
     "text": [
      "R1 has order 4: True\n",
      "S has order 2: True\n",
      "T has order 2: True\n",
      "S and R1 satisfy the dihedral relation SR_1S = R_1^-1: True\n",
      "T and R1 commute: True\n",
      "S and T commute: True\n"
     ]
    }
   ],
   "source": [
    "print(\"R1 has order 4:\", R1@R1 != I and R1@R1@R1 != I and R1@R1@R1@R1 == I)\n",
    "print(\"S has order 2:\", S@S == I)\n",
    "print(\"T has order 2:\", T@T == I)\n",
    "print(\"S and R1 satisfy the dihedral relation SR_1S = R_1^-1:\", S@R1@S == R1.inv())\n",
    "print(\"T and R1 commute:\", T@R1 == R1@T)\n",
    "print(\"S and T commute:\", S@T == T@S)"
   ]
  },
  {
   "cell_type": "markdown",
   "metadata": {},
   "source": [
    "Next, we show that these matrices appear in the above table. Since $\\mathbf{T} = \\mathbf{B}^2$ and $\\mathbf{R}_1 = \\mathbf{B}\\mathbf{C} = \\mathbf{C}\\mathbf{B}$, one has\n",
    "$$\\mathbf{S}^n \\mathbf{R}_1^m \\mathbf{T}^p = \\mathbf{S}^n \\mathbf{C}^m \\mathbf{B}^{m + 2p} = \\mathbf{S}^n \\mathbf{C}^{q+r} \\mathbf{B}^s, $$\n",
    "with $s = m + 2p$ and $m = q + r$."
   ]
  },
  {
   "cell_type": "code",
   "execution_count": 35,
   "metadata": {},
   "outputs": [
    {
     "data": {
      "text/html": [
       "<table>\n",
       "<thead>\n",
       "<tr><th>$M^-_{q+r,s}$    </th><th>$q+r\\equiv 0$                                       </th><th>$q+r\\equiv 1$                                        </th><th>$q+r \\equiv 2$                                        </th><th>$q+r \\equiv 3$                                       </th></tr>\n",
       "</thead>\n",
       "<tbody>\n",
       "<tr><td>$s-(q+r)\\equiv 0$</td><td>$\\begin{bmatrix}1&amp;0&amp;0\\\\0&amp;1&amp;0\\\\0&amp;0&amp;1\\\\\\end{bmatrix}$ </td><td>$\\begin{bmatrix}0&amp;1&amp;0\\\\-1&amp;0&amp;0\\\\0&amp;0&amp;-1\\\\\\end{bmatrix}$</td><td>$\\begin{bmatrix}-1&amp;0&amp;0\\\\0&amp;-1&amp;0\\\\0&amp;0&amp;1\\\\\\end{bmatrix}$ </td><td>$\\begin{bmatrix}0&amp;-1&amp;0\\\\1&amp;0&amp;0\\\\0&amp;0&amp;-1\\\\\\end{bmatrix}$</td></tr>\n",
       "<tr><td>$s-(q+r)\\equiv 2$</td><td>$\\begin{bmatrix}1&amp;0&amp;0\\\\0&amp;1&amp;0\\\\0&amp;0&amp;-1\\\\\\end{bmatrix}$</td><td>$\\begin{bmatrix}0&amp;1&amp;0\\\\-1&amp;0&amp;0\\\\0&amp;0&amp;1\\\\\\end{bmatrix}$ </td><td>$\\begin{bmatrix}-1&amp;0&amp;0\\\\0&amp;-1&amp;0\\\\0&amp;0&amp;-1\\\\\\end{bmatrix}$</td><td>$\\begin{bmatrix}0&amp;-1&amp;0\\\\1&amp;0&amp;0\\\\0&amp;0&amp;1\\\\\\end{bmatrix}$ </td></tr>\n",
       "</tbody>\n",
       "</table>"
      ],
      "text/plain": [
       "<IPython.core.display.HTML object>"
      ]
     },
     "execution_count": 35,
     "metadata": {},
     "output_type": "execute_result"
    }
   ],
   "source": [
    "headers = ['$M^-_{q+r,s}$', '$q+r\\equiv 0$', '$q+r\\equiv 1$', '$q+r \\equiv 2$', '$q+r \\equiv 3$']\n",
    "table = [[f\"$s-(q+r)\\equiv {2*m}$\"] + [matrix_to_latex(R1**p * T**m) for p in range(4)] for m in range(2)]\n",
    "HTML(tabulate(table, headers=headers, floatfmt='.3e', tablefmt='html'))"
   ]
  },
  {
   "cell_type": "code",
   "execution_count": 36,
   "metadata": {},
   "outputs": [
    {
     "data": {
      "text/html": [
       "<table>\n",
       "<thead>\n",
       "<tr><th>$M^-_{q+r,s}$    </th><th>$q+r\\equiv 0$                                        </th><th>$q+r\\equiv 1$                                       </th><th>$q+r \\equiv 2$                                       </th><th>$q+r \\equiv 3$                                        </th></tr>\n",
       "</thead>\n",
       "<tbody>\n",
       "<tr><td>$s-(q+r)\\equiv 0$</td><td>$\\begin{bmatrix}1&amp;0&amp;0\\\\0&amp;-1&amp;0\\\\0&amp;0&amp;1\\\\\\end{bmatrix}$ </td><td>$\\begin{bmatrix}0&amp;1&amp;0\\\\1&amp;0&amp;0\\\\0&amp;0&amp;-1\\\\\\end{bmatrix}$</td><td>$\\begin{bmatrix}-1&amp;0&amp;0\\\\0&amp;1&amp;0\\\\0&amp;0&amp;1\\\\\\end{bmatrix}$ </td><td>$\\begin{bmatrix}0&amp;-1&amp;0\\\\-1&amp;0&amp;0\\\\0&amp;0&amp;-1\\\\\\end{bmatrix}$</td></tr>\n",
       "<tr><td>$s-(q+r)\\equiv 2$</td><td>$\\begin{bmatrix}1&amp;0&amp;0\\\\0&amp;-1&amp;0\\\\0&amp;0&amp;-1\\\\\\end{bmatrix}$</td><td>$\\begin{bmatrix}0&amp;1&amp;0\\\\1&amp;0&amp;0\\\\0&amp;0&amp;1\\\\\\end{bmatrix}$ </td><td>$\\begin{bmatrix}-1&amp;0&amp;0\\\\0&amp;1&amp;0\\\\0&amp;0&amp;-1\\\\\\end{bmatrix}$</td><td>$\\begin{bmatrix}0&amp;-1&amp;0\\\\-1&amp;0&amp;0\\\\0&amp;0&amp;1\\\\\\end{bmatrix}$ </td></tr>\n",
       "</tbody>\n",
       "</table>"
      ],
      "text/plain": [
       "<IPython.core.display.HTML object>"
      ]
     },
     "execution_count": 36,
     "metadata": {},
     "output_type": "execute_result"
    }
   ],
   "source": [
    "headers = ['$M^-_{q+r,s}$', '$q+r\\equiv 0$', '$q+r\\equiv 1$', '$q+r \\equiv 2$', '$q+r \\equiv 3$']\n",
    "table = [[f\"$s-(q+r)\\equiv {2*m}$\"] + [matrix_to_latex(S * R1**p * T**m) for p in range(4)] for m in range(2)]\n",
    "HTML(tabulate(table, headers=headers, floatfmt='.3e', tablefmt='html'))"
   ]
  },
  {
   "cell_type": "markdown",
   "metadata": {},
   "source": [
    "We show that these are true symmetries of the Enneper surface."
   ]
  },
  {
   "cell_type": "code",
   "execution_count": 38,
   "metadata": {},
   "outputs": [
    {
     "name": "stdout",
     "output_type": "stream",
     "text": [
      "q=0, r=0, s=0\n"
     ]
    },
    {
     "data": {
      "text/latex": [
       "$\\displaystyle \\left[\\begin{matrix}0\\\\0\\\\0\\end{matrix}\\right]$"
      ],
      "text/plain": [
       "⎡0⎤\n",
       "⎢ ⎥\n",
       "⎢0⎥\n",
       "⎢ ⎥\n",
       "⎣0⎦"
      ]
     },
     "metadata": {},
     "output_type": "display_data"
    },
    {
     "name": "stdout",
     "output_type": "stream",
     "text": [
      "q=1, r=0, s=1\n"
     ]
    },
    {
     "data": {
      "text/latex": [
       "$\\displaystyle \\left[\\begin{matrix}0\\\\0\\\\0\\end{matrix}\\right]$"
      ],
      "text/plain": [
       "⎡0⎤\n",
       "⎢ ⎥\n",
       "⎢0⎥\n",
       "⎢ ⎥\n",
       "⎣0⎦"
      ]
     },
     "metadata": {},
     "output_type": "display_data"
    },
    {
     "name": "stdout",
     "output_type": "stream",
     "text": [
      "q=2, r=0, s=2\n"
     ]
    },
    {
     "data": {
      "text/latex": [
       "$\\displaystyle \\left[\\begin{matrix}0\\\\0\\\\0\\end{matrix}\\right]$"
      ],
      "text/plain": [
       "⎡0⎤\n",
       "⎢ ⎥\n",
       "⎢0⎥\n",
       "⎢ ⎥\n",
       "⎣0⎦"
      ]
     },
     "metadata": {},
     "output_type": "display_data"
    },
    {
     "name": "stdout",
     "output_type": "stream",
     "text": [
      "q=3, r=0, s=3\n"
     ]
    },
    {
     "data": {
      "text/latex": [
       "$\\displaystyle \\left[\\begin{matrix}0\\\\0\\\\0\\end{matrix}\\right]$"
      ],
      "text/plain": [
       "⎡0⎤\n",
       "⎢ ⎥\n",
       "⎢0⎥\n",
       "⎢ ⎥\n",
       "⎣0⎦"
      ]
     },
     "metadata": {},
     "output_type": "display_data"
    }
   ],
   "source": [
    "k = 1\n",
    "f = 2 + 0*z\n",
    "g = z**k\n",
    "psi = Weierstrass_Enneper(f, g, z, imag_unit=sp.I)\n",
    "\n",
    "for q in range(4):\n",
    "    for r in range(4):\n",
    "        for s in range(4):\n",
    "            if sp.I**s * g == g.subs(z, sp.I**q*z) and sp.I**r * f == f.subs(z, sp.I**q*z):\n",
    "                M = B**s * C**(q+r)\n",
    "                lhs = M @ sp.Matrix(psi)\n",
    "                rhs = sp.Matrix([expr.subs(z, sp.I**(q+r) * z) for expr in psi])\n",
    "                print(f\"q={q}, r={r}, s={s}\")\n",
    "                display(sp.expand(lhs - rhs))"
   ]
  }
 ],
 "metadata": {
  "kernelspec": {
   "display_name": "Python 3",
   "language": "python",
   "name": "python3"
  },
  "language_info": {
   "codemirror_mode": {
    "name": "ipython",
    "version": 3
   },
   "file_extension": ".py",
   "mimetype": "text/x-python",
   "name": "python",
   "nbconvert_exporter": "python",
   "pygments_lexer": "ipython3",
   "version": "3.7.3"
  }
 },
 "nbformat": 4,
 "nbformat_minor": 2
}
